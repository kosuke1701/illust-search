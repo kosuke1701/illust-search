{
  "nbformat": 4,
  "nbformat_minor": 0,
  "metadata": {
    "colab": {
      "name": "face_search.ipynb",
      "provenance": [],
      "private_outputs": true,
      "authorship_tag": "ABX9TyNgpHSZ6MgzcSJjUEJppA7s"
    },
    "kernelspec": {
      "name": "python3",
      "display_name": "Python 3"
    }
  },
  "cells": [
    {
      "cell_type": "markdown",
      "metadata": {
        "id": "1UlRurbz9QPv"
      },
      "source": [
        "# 準備"
      ]
    },
    {
      "cell_type": "code",
      "metadata": {
        "id": "StjZ7aol9SrK"
      },
      "source": [
        "# 必要なライブラリのインストール\n",
        "! pip install pixivpy --upgrade"
      ],
      "execution_count": null,
      "outputs": []
    },
    {
      "cell_type": "code",
      "metadata": {
        "id": "-syhPeq6A5aU"
      },
      "source": [
        "from getpass import getpass"
      ],
      "execution_count": null,
      "outputs": []
    },
    {
      "cell_type": "code",
      "metadata": {
        "id": "zt-n1cgc9PPG"
      },
      "source": [
        "def download(id, username, password):\n",
        "    aapi = PixivAPI()\n",
        "    aapi.login(username, password)\n",
        "    illust = aapi.works(id)\n",
        "    assert illust[\"status\"] == \"success\", \"AppPixivAPI.works({}) returns failure status.\".format(id)\n",
        "    illust = illust.response[0]\n",
        "    url = illust[\"image_urls\"][\"large\"]\n",
        "    file_type = url.split(\".\")[-1]\n",
        "\n",
        "    # Download illust.\n",
        "    fn = f\"{id}.{file_type}\"\n",
        "    aapi.download(url, path=\".\", name=fn)\n",
        "\n",
        "    return fn"
      ],
      "execution_count": null,
      "outputs": []
    },
    {
      "cell_type": "code",
      "metadata": {
        "id": "9W1srPgRAsrB"
      },
      "source": [
        "username = getpass(\"Username:\")\n",
        "password = getpass(\"Password:\")"
      ],
      "execution_count": null,
      "outputs": []
    }
  ]
}
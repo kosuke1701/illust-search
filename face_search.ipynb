{
  "nbformat": 4,
  "nbformat_minor": 0,
  "metadata": {
    "colab": {
      "name": "face_search.ipynb",
      "provenance": [],
      "private_outputs": true,
      "authorship_tag": "ABX9TyPUgDfQ7m5NQLni3Ag6wnja"
    },
    "kernelspec": {
      "name": "python3",
      "display_name": "Python 3"
    }
  },
  "cells": [
    {
      "cell_type": "markdown",
      "metadata": {
        "id": "1UlRurbz9QPv"
      },
      "source": [
        "# 準備"
      ]
    },
    {
      "cell_type": "code",
      "metadata": {
        "id": "StjZ7aol9SrK"
      },
      "source": [
        "# 必要なライブラリのインストール\n",
        "! pip install pixivpy --upgrade"
      ],
      "execution_count": null,
      "outputs": []
    },
    {
      "cell_type": "code",
      "metadata": {
        "id": "2CymYdeUC4qR"
      },
      "source": [
        "# データベースのダウンロード\n",
        "! wget https://github.com/kosuke1701/illust-search/releases/download/0.0/vectors.sql"
      ],
      "execution_count": null,
      "outputs": []
    },
    {
      "cell_type": "code",
      "metadata": {
        "id": "-syhPeq6A5aU"
      },
      "source": [
        "from getpass import getpass\n",
        "import io\n",
        "import sqlite3\n",
        "\n",
        "from IPython.display import display\n",
        "import matplotlib.pyplot as plt\n",
        "import numpy as np\n",
        "from PIL import Image\n",
        "from pixivpy3 import PixivAPI"
      ],
      "execution_count": null,
      "outputs": []
    },
    {
      "cell_type": "code",
      "metadata": {
        "id": "1KIqDNMJHI1b"
      },
      "source": [
        "# Following codes which define `array` type in sqlite3 is copied from the following Stack Overflow:\n",
        "# https://stackoverflow.com/questions/18621513\n",
        "# question by:\n",
        "# Joe Flip (https://stackoverflow.com/users/1715453/joe-flip)\n",
        "# answered by:\n",
        "# unutbu (https://stackoverflow.com/users/190597/unutbu)\n",
        "def adapt_array(arr):\n",
        "    \"\"\"\n",
        "    http://stackoverflow.com/a/31312102/190597 (SoulNibbler)\n",
        "    \"\"\"\n",
        "    out = io.BytesIO()\n",
        "    np.save(out, arr)\n",
        "    out.seek(0)\n",
        "    return sqlite3.Binary(out.read())\n",
        "def convert_array(text):\n",
        "    out = io.BytesIO(text)\n",
        "    out.seek(0)\n",
        "    return np.load(out)\n",
        "# Converts np.array to TEXT when inserting\n",
        "sqlite3.register_adapter(np.ndarray, adapt_array)\n",
        "# Converts TEXT to np.array when selecting\n",
        "sqlite3.register_converter(\"array\", convert_array)"
      ],
      "execution_count": null,
      "outputs": []
    },
    {
      "cell_type": "code",
      "metadata": {
        "id": "bu_cN2boHjVf"
      },
      "source": [
        "# Load database\n",
        "dim = 500\n",
        "data_dtype = [(\"id\", int), (\"face\", int), (\"xmin\", int), (\"xmax\", int), \\\n",
        "              (\"ymin\", int), (\"ymax\", int), (\"vector\", np.float32, dim)]\n",
        "\n",
        "with sqlite3.connect(\"vectors.sql\", detect_types=sqlite3.PARSE_DECLTYPES) as conn:\n",
        "    c = conn.cursor()\n",
        "\n",
        "    c.execute(\"SELECT * FROM face\")\n",
        "    _data = c.fetchall()\n",
        "    data = np.array(_data, dtype=data_dtype)\n"
      ],
      "execution_count": null,
      "outputs": []
    },
    {
      "cell_type": "code",
      "metadata": {
        "id": "zt-n1cgc9PPG"
      },
      "source": [
        "# イラストが既に削除されている場合はAssertionErrorが返される\n",
        "def download(id, username, password):\n",
        "    aapi = PixivAPI()\n",
        "    aapi.login(username, password)\n",
        "    illust = aapi.works(id)\n",
        "    assert illust[\"status\"] == \"success\", \"AppPixivAPI.works({}) returns failure status.\".format(id)\n",
        "    illust = illust.response[0]\n",
        "    #print(illust)\n",
        "    url = illust[\"image_urls\"][\"large\"]\n",
        "    file_type = url.split(\".\")[-1]\n",
        "\n",
        "    # Download illust.\n",
        "    fn = f\"{id}.{file_type}\"\n",
        "    aapi.download(url, path=\".\", name=fn)\n",
        "\n",
        "    return fn"
      ],
      "execution_count": null,
      "outputs": []
    },
    {
      "cell_type": "code",
      "metadata": {
        "id": "9W1srPgRAsrB"
      },
      "source": [
        "# Test\n",
        "username = getpass(\"Username:\")\n",
        "password = getpass(\"Password:\")\n",
        "i_illust = 67108889\n",
        "xmin, xmax,ymin, ymax = 366, 695, 61, 399\n",
        "fn = download(i_illust, username, password)\n",
        "im = Image.open(fn)\n",
        "im = im.crop((xmin, ymin, xmax, ymax))\n",
        "im = im.resize((128,128))\n",
        "\n",
        "display(im)\n",
        "\n",
        "target_id = 30\n",
        "i_illust = data[\"id\"][target_id]\n",
        "xmin, xmax,ymin, ymax = data[\"xmin\"][target_id], data[\"xmax\"][target_id], \\\n",
        "    data[\"ymin\"][target_id], data[\"ymax\"][target_id]\n",
        "fn = download(i_illust, username, password)\n",
        "im = Image.open(fn)\n",
        "im = im.crop((xmin, ymin, xmax, ymax))\n",
        "im = im.resize((128,128))\n",
        "\n",
        "display(im)\n",
        "print(data[\"vector\"][target_id])"
      ],
      "execution_count": null,
      "outputs": []
    }
  ]
}
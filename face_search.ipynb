{
  "nbformat": 4,
  "nbformat_minor": 0,
  "metadata": {
    "colab": {
      "name": "face_search.ipynb",
      "provenance": [],
      "private_outputs": true,
      "authorship_tag": "ABX9TyNxSfqb5R62X9WWCmeNikI/"
    },
    "kernelspec": {
      "name": "python3",
      "display_name": "Python 3"
    }
  },
  "cells": [
    {
      "cell_type": "markdown",
      "metadata": {
        "id": "1UlRurbz9QPv"
      },
      "source": [
        "# 環境整備"
      ]
    },
    {
      "cell_type": "code",
      "metadata": {
        "id": "StjZ7aol9SrK"
      },
      "source": [
        ""
      ],
      "execution_count": null,
      "outputs": []
    },
    {
      "cell_type": "code",
      "metadata": {
        "id": "zt-n1cgc9PPG"
      },
      "source": [
        ""
      ],
      "execution_count": null,
      "outputs": []
    }
  ]
}
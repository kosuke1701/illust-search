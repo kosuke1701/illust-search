{
  "nbformat": 4,
  "nbformat_minor": 0,
  "metadata": {
    "colab": {
      "name": "face_search.ipynb",
      "provenance": [],
      "private_outputs": true,
      "authorship_tag": "ABX9TyMyTKRm5/Ymsisdm+oBWev7"
    },
    "kernelspec": {
      "name": "python3",
      "display_name": "Python 3"
    }
  },
  "cells": [
    {
      "cell_type": "markdown",
      "metadata": {
        "id": "1UlRurbz9QPv"
      },
      "source": [
        "# 準備"
      ]
    },
    {
      "cell_type": "code",
      "metadata": {
        "id": "StjZ7aol9SrK"
      },
      "source": [
        "# 必要なライブラリのインストール\n",
        "! pip install pixivpy --upgrade\n",
        "! pip install scann"
      ],
      "execution_count": null,
      "outputs": []
    },
    {
      "cell_type": "code",
      "metadata": {
        "id": "2CymYdeUC4qR"
      },
      "source": [
        "# データベース・索引のダウンロード\n",
        "! wget https://github.com/kosuke1701/illust-search/releases/download/0.0/vectors.sql\n",
        "! wget https://github.com/kosuke1701/illust-search/releases/download/0.0/scann_save_dir.zip\n",
        "! unzip scann_save_dir.zip"
      ],
      "execution_count": null,
      "outputs": []
    },
    {
      "cell_type": "code",
      "metadata": {
        "id": "-syhPeq6A5aU"
      },
      "source": [
        "from getpass import getpass\n",
        "import io\n",
        "import sqlite3\n",
        "import time\n",
        "\n",
        "from IPython.display import display\n",
        "import matplotlib.pyplot as plt\n",
        "import numpy as np\n",
        "from PIL import Image\n",
        "from pixivpy3 import PixivAPI\n",
        "import scann\n",
        "import scipy as sp"
      ],
      "execution_count": null,
      "outputs": []
    },
    {
      "cell_type": "code",
      "metadata": {
        "id": "1KIqDNMJHI1b"
      },
      "source": [
        "# Following codes which define `array` type in sqlite3 is copied from the following Stack Overflow:\n",
        "# https://stackoverflow.com/questions/18621513\n",
        "# question by:\n",
        "# Joe Flip (https://stackoverflow.com/users/1715453/joe-flip)\n",
        "# answered by:\n",
        "# unutbu (https://stackoverflow.com/users/190597/unutbu)\n",
        "def adapt_array(arr):\n",
        "    \"\"\"\n",
        "    http://stackoverflow.com/a/31312102/190597 (SoulNibbler)\n",
        "    \"\"\"\n",
        "    out = io.BytesIO()\n",
        "    np.save(out, arr)\n",
        "    out.seek(0)\n",
        "    return sqlite3.Binary(out.read())\n",
        "def convert_array(text):\n",
        "    out = io.BytesIO(text)\n",
        "    out.seek(0)\n",
        "    return np.load(out)\n",
        "# Converts np.array to TEXT when inserting\n",
        "sqlite3.register_adapter(np.ndarray, adapt_array)\n",
        "# Converts TEXT to np.array when selecting\n",
        "sqlite3.register_converter(\"array\", convert_array)"
      ],
      "execution_count": null,
      "outputs": []
    },
    {
      "cell_type": "code",
      "metadata": {
        "id": "bu_cN2boHjVf"
      },
      "source": [
        "# Load database\n",
        "dim = 500\n",
        "data_dtype = [(\"id\", int), (\"face\", int), (\"xmin\", int), (\"xmax\", int), \\\n",
        "              (\"ymin\", int), (\"ymax\", int), (\"vector\", np.float32, dim)]\n",
        "\n",
        "with sqlite3.connect(\"vectors.sql\", detect_types=sqlite3.PARSE_DECLTYPES) as conn:\n",
        "    c = conn.cursor()\n",
        "\n",
        "    c.execute(\"SELECT * FROM face ORDER BY id\")\n",
        "    _data = c.fetchall()\n",
        "    data = np.array(_data, dtype=data_dtype)\n"
      ],
      "execution_count": null,
      "outputs": []
    },
    {
      "cell_type": "code",
      "metadata": {
        "id": "0E6ZspNqSkhz"
      },
      "source": [
        "# Load ScaNN Index\n",
        "searcher = scann.scann_ops_pybind.load_searcher(\"scann_save_dir\")"
      ],
      "execution_count": null,
      "outputs": []
    },
    {
      "cell_type": "code",
      "metadata": {
        "id": "zt-n1cgc9PPG"
      },
      "source": [
        "# イラストが既に削除されている場合はAssertionErrorが返される\n",
        "def download(id, username, password):\n",
        "    aapi = PixivAPI()\n",
        "    aapi.login(username, password)\n",
        "    illust = aapi.works(id)\n",
        "    assert illust[\"status\"] == \"success\", \"AppPixivAPI.works({}) returns failure status.\".format(id)\n",
        "    illust = illust.response[0]\n",
        "    #print(illust)\n",
        "    url = illust[\"image_urls\"][\"large\"]\n",
        "    file_type = url.split(\".\")[-1]\n",
        "\n",
        "    # Download illust.\n",
        "    fn = f\"{id}.{file_type}\"\n",
        "    aapi.download(url, path=\".\", name=fn)\n",
        "\n",
        "    return fn"
      ],
      "execution_count": null,
      "outputs": []
    },
    {
      "cell_type": "code",
      "metadata": {
        "id": "9W1srPgRAsrB"
      },
      "source": [
        "# Test\n",
        "username = getpass(\"Username:\")\n",
        "password = getpass(\"Password:\")\n",
        "\n",
        "\n",
        "target_id = 400\n",
        "i_illust = data[\"id\"][target_id]\n",
        "xmin, xmax,ymin, ymax = data[\"xmin\"][target_id], data[\"xmax\"][target_id], \\\n",
        "    data[\"ymin\"][target_id], data[\"ymax\"][target_id]\n",
        "fn = download(i_illust, username, password)\n",
        "im = Image.open(fn)\n",
        "im = im.crop((xmin, ymin, xmax, ymax))\n",
        "im = im.resize((128,128))\n",
        "\n",
        "display(im)\n",
        "#print(data[\"vector\"][target_id])\n",
        "\n",
        "print(\"Display similar 5 faces.\")\n",
        "neighbor_ids, _ = searcher.search(data[\"vector\"][target_id], final_num_neighbors=100)\n",
        "counter = 0\n",
        "for nei_id in neighbor_ids:\n",
        "    i_illust = data[\"id\"][nei_id]\n",
        "    xmin, xmax,ymin, ymax = data[\"xmin\"][nei_id], data[\"xmax\"][nei_id], \\\n",
        "        data[\"ymin\"][nei_id], data[\"ymax\"][nei_id]\n",
        "    try:\n",
        "        fn = download(i_illust, username, password)\n",
        "    except AssertionError:\n",
        "        print(f\"No image found: {nei_id}\\t{i_illust}\")\n",
        "        continue\n",
        "    im = Image.open(fn)\n",
        "    im = im.crop((xmin, ymin, xmax, ymax))\n",
        "    im = im.resize((128,128))\n",
        "    display(im)\n",
        "    counter += 1\n",
        "    if counter == 5:\n",
        "        break"
      ],
      "execution_count": null,
      "outputs": []
    },
    {
      "cell_type": "code",
      "metadata": {
        "id": "vUOOCfKxa3dt"
      },
      "source": [
        "# うまく動かなかった\n",
        "class CharacterRetriever(object):\n",
        "    def __init__(self, data, searcher, dim=500):\n",
        "        self.dim = 500\n",
        "\n",
        "        self.data = data\n",
        "        self.searcher = searcher\n",
        "\n",
        "        self.username = getpass(\"Username:\")\n",
        "        self.password = getpass(\"Password:\")\n",
        "\n",
        "        self.feedback_vectors = [] # (positive - negative)のベクトルのリスト\n",
        "    \n",
        "    def display(self, i_data):\n",
        "        i_illust = self.data[\"id\"][i_data]\n",
        "        xmin, xmax,ymin, ymax = self.data[\"xmin\"][i_data], self.data[\"xmax\"][i_data], \\\n",
        "            self.data[\"ymin\"][i_data], self.data[\"ymax\"][i_data]\n",
        "        fn = download(i_illust, self.username, self.password)\n",
        "        im = Image.open(fn)\n",
        "        im = im.crop((xmin, ymin, xmax, ymax))\n",
        "        im = im.resize((128,128))\n",
        "\n",
        "        display(im)\n",
        "\n",
        "        return self.data[\"vector\"][i_data]\n",
        "    \n",
        "    def query(self, q_vector, n_neighbor=5):\n",
        "        neighbor_ids, _ = self.searcher.search(q_vector, final_num_neighbors=100)\n",
        "        return neighbor_ids\n",
        "    \n",
        "    def generate_random_query(self):\n",
        "        \"\"\"\n",
        "        x*(pos_i-neg_i) > 0の部分空間からサンプリングする\n",
        "        厳密にやるのは面倒なので、w_i*(pos_i-neg_i) + kernel (w_i>0, kernelはpos_i-neg_iの行列のカーネル)の和としてみる\n",
        "        \"\"\"\n",
        "        if len(self.feedback_vectors) == 0:\n",
        "            q_vec = np.random.uniform(size=self.dim)\n",
        "        else:\n",
        "            if len(self.feedback_vectors) == 1:\n",
        "                f_mat = self.feedback_vectors[0][np.newaxis,:]\n",
        "            else:\n",
        "                f_mat = np.concatenate([mat[np.newaxis,:] for mat in self.feedback_vectors], axis=0)\n",
        "            kernel = sp.linalg.null_space(f_mat) # (dim x null_dim)\n",
        "            if kernel.shape[1] == 0:\n",
        "                kernel_vec = np.zeros(size=self.dim)\n",
        "            else:\n",
        "                kernel_vec = np.sum(np.random.uniform(size=(1,kernel.shape[1])) * kernel, axis=1)\n",
        "\n",
        "            f_vec = np.sum(np.random.uniform(size=(f_mat.shape[0], 1)) * f_mat, axis=0)\n",
        "\n",
        "            q_vec = kernel_vec + f_vec\n",
        "        \n",
        "        return q_vec\n"
      ],
      "execution_count": null,
      "outputs": []
    },
    {
      "cell_type": "code",
      "metadata": {
        "id": "kmNqRNNmg7cG"
      },
      "source": [
        "retriever = CharacterRetriever(data, searcher)\n",
        "\n",
        "while True:\n",
        "    vectors = []\n",
        "    for i in range(5):\n",
        "        random_q = retriever.generate_random_query()\n",
        "        ids = retriever.query(random_q)[1:]\n",
        "        for id in ids:\n",
        "            try:\n",
        "                vec = retriever.display(id)\n",
        "            except AssertionError:\n",
        "                time.sleep(1)\n",
        "                continue\n",
        "            vectors.append(vec)\n",
        "            break\n",
        "    \n",
        "    while True:\n",
        "        try:\n",
        "            i_best = int(input(\"Please select best image: \"))\n",
        "        except Exception:\n",
        "            continue\n",
        "        else:\n",
        "            break\n",
        "    \n",
        "    for i_vec in range(len(vectors)):\n",
        "        if i_vec == i_best:\n",
        "            continue\n",
        "        retriever.feedback_vectors.append(vectors[i_best] - vectors[i_vec])\n",
        "        "
      ],
      "execution_count": null,
      "outputs": []
    }
  ]
}
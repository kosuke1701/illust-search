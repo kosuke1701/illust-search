{
  "nbformat": 4,
  "nbformat_minor": 0,
  "metadata": {
    "colab": {
      "name": "face_search.ipynb",
      "provenance": [],
      "private_outputs": true,
      "authorship_tag": "ABX9TyOwJOP/AmmEv2b26q6Cn35A"
    },
    "kernelspec": {
      "name": "python3",
      "display_name": "Python 3"
    }
  },
  "cells": [
    {
      "cell_type": "markdown",
      "metadata": {
        "id": "1UlRurbz9QPv"
      },
      "source": [
        "# 準備"
      ]
    },
    {
      "cell_type": "code",
      "metadata": {
        "id": "StjZ7aol9SrK"
      },
      "source": [
        "# 必要なライブラリのインストール\n",
        "! pip install pixivpy --upgrade"
      ],
      "execution_count": null,
      "outputs": []
    },
    {
      "cell_type": "code",
      "metadata": {
        "id": "-syhPeq6A5aU"
      },
      "source": [
        "from getpass import getpass\n",
        "\n",
        "from IPython.display import display\n",
        "import matplotlib.pyplot as plt\n",
        "import numpy as np\n",
        "from PIL import Image\n",
        "from pixivpy3 import PixivAPI"
      ],
      "execution_count": null,
      "outputs": []
    },
    {
      "cell_type": "code",
      "metadata": {
        "id": "zt-n1cgc9PPG"
      },
      "source": [
        "def download(id, username, password):\n",
        "    aapi = PixivAPI()\n",
        "    aapi.login(username, password)\n",
        "    illust = aapi.works(id)\n",
        "    assert illust[\"status\"] == \"success\", \"AppPixivAPI.works({}) returns failure status.\".format(id)\n",
        "    illust = illust.response[0]\n",
        "    #print(illust)\n",
        "    url = illust[\"image_urls\"][\"large\"]\n",
        "    file_type = url.split(\".\")[-1]\n",
        "\n",
        "    # Download illust.\n",
        "    fn = f\"{id}.{file_type}\"\n",
        "    aapi.download(url, path=\".\", name=fn)\n",
        "\n",
        "    return fn\n",
        "\n"
      ],
      "execution_count": null,
      "outputs": []
    },
    {
      "cell_type": "code",
      "metadata": {
        "id": "9W1srPgRAsrB"
      },
      "source": [
        "# Test\n",
        "username = getpass(\"Username:\")\n",
        "password = getpass(\"Password:\")\n",
        "i_illust = 67108889\n",
        "xmin, xmax,ymin, ymax = 366, 695, 61, 399\n",
        "fn = download(i_illust, username, password)\n",
        "im = Image.open(fn)\n",
        "im = im.crop((xmin, ymin, xmax, ymax))\n",
        "im = im.resize((128,128))\n",
        "\n",
        "display(im)"
      ],
      "execution_count": null,
      "outputs": []
    }
  ]
}
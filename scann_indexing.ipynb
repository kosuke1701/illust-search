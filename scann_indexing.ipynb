{
  "nbformat": 4,
  "nbformat_minor": 0,
  "metadata": {
    "colab": {
      "name": "scann-indexing.ipynb",
      "provenance": [],
      "private_outputs": true,
      "collapsed_sections": [],
      "authorship_tag": "ABX9TyN27JQXlWd3b+42Aqs1u3b2"
    },
    "kernelspec": {
      "name": "python3",
      "display_name": "Python 3"
    }
  },
  "cells": [
    {
      "cell_type": "markdown",
      "metadata": {
        "id": "e2JtYJ_oj5mF"
      },
      "source": [
        "# ScaNNで探索を行うため、イラスト顔ベクトルの索引を作る"
      ]
    },
    {
      "cell_type": "code",
      "metadata": {
        "id": "oRCBU_anjPT5"
      },
      "source": [
        "! pip install scann"
      ],
      "execution_count": null,
      "outputs": []
    },
    {
      "cell_type": "code",
      "metadata": {
        "id": "aybJd2n7jT2S"
      },
      "source": [
        "! wget https://github.com/kosuke1701/illust-search/releases/download/0.0/vectors.sql"
      ],
      "execution_count": null,
      "outputs": []
    },
    {
      "cell_type": "code",
      "metadata": {
        "id": "Uxw4NxHCjq7s"
      },
      "source": [
        "import io\n",
        "import sqlite3\n",
        "\n",
        "import numpy as np\n",
        "import scann"
      ],
      "execution_count": null,
      "outputs": []
    },
    {
      "cell_type": "code",
      "metadata": {
        "id": "p1n2HfpVjvTt"
      },
      "source": [
        "# Following codes which define `array` type in sqlite3 is copied from the following Stack Overflow:\n",
        "# https://stackoverflow.com/questions/18621513\n",
        "# question by:\n",
        "# Joe Flip (https://stackoverflow.com/users/1715453/joe-flip)\n",
        "# answered by:\n",
        "# unutbu (https://stackoverflow.com/users/190597/unutbu)\n",
        "def adapt_array(arr):\n",
        "    \"\"\"\n",
        "    http://stackoverflow.com/a/31312102/190597 (SoulNibbler)\n",
        "    \"\"\"\n",
        "    out = io.BytesIO()\n",
        "    np.save(out, arr)\n",
        "    out.seek(0)\n",
        "    return sqlite3.Binary(out.read())\n",
        "def convert_array(text):\n",
        "    out = io.BytesIO(text)\n",
        "    out.seek(0)\n",
        "    return np.load(out)\n",
        "# Converts np.array to TEXT when inserting\n",
        "sqlite3.register_adapter(np.ndarray, adapt_array)\n",
        "# Converts TEXT to np.array when selecting\n",
        "sqlite3.register_converter(\"array\", convert_array)"
      ],
      "execution_count": null,
      "outputs": []
    },
    {
      "cell_type": "code",
      "metadata": {
        "id": "8cZVTFK8j3_5"
      },
      "source": [
        "# Load database\n",
        "dim = 500\n",
        "data_dtype = [(\"id\", int), (\"face\", int), (\"xmin\", int), (\"xmax\", int), \\\n",
        "              (\"ymin\", int), (\"ymax\", int), (\"vector\", np.float32, dim)]\n",
        "\n",
        "with sqlite3.connect(\"vectors.sql\", detect_types=sqlite3.PARSE_DECLTYPES) as conn:\n",
        "    c = conn.cursor()\n",
        "\n",
        "    c.execute(\"SELECT * FROM face ORDER BY id\")\n",
        "    _data = c.fetchall()\n",
        "    data = np.array(_data, dtype=data_dtype)"
      ],
      "execution_count": null,
      "outputs": []
    },
    {
      "cell_type": "code",
      "metadata": {
        "id": "ztp6RyjQkcqI"
      },
      "source": [
        "# 索引の作成（1-2時間ほどかかる）\n",
        "searcher = scann.scann_ops_pybind.builder(data[\"vector\"], 10, \"dot_product\").tree(\n",
        "    num_leaves=2000, num_leaves_to_search=100, training_sample_size=250000).score_ah(\n",
        "    2, anisotropic_quantization_threshold=0.2).reorder(100).build()"
      ],
      "execution_count": null,
      "outputs": []
    },
    {
      "cell_type": "code",
      "metadata": {
        "id": "7FB10qnFlWHc"
      },
      "source": [
        "query = data[\"vector\"][400]\n",
        "neighbors, distances = searcher.search(query, final_num_neighbors=20)\n",
        "\n",
        "print(np.dot(query, query))\n",
        "print(np.sum(query[None,:] * data[\"vector\"][neighbors], axis=1))"
      ],
      "execution_count": null,
      "outputs": []
    },
    {
      "cell_type": "markdown",
      "metadata": {
        "id": "Rsp4AIOVe-Dz"
      },
      "source": [
        "## 保存\n",
        "\n",
        "必要に応じて作成した索引を外部に保存する。"
      ]
    },
    {
      "cell_type": "code",
      "metadata": {
        "id": "enjP0HMnLzLh"
      },
      "source": [
        "! mkdir scann_save_dir"
      ],
      "execution_count": null,
      "outputs": []
    },
    {
      "cell_type": "code",
      "metadata": {
        "id": "Z-RLGM3MIzUh"
      },
      "source": [
        "# 索引を保存する\n",
        "searcher.serialize(\"scann_save_dir\")\n",
        "saved_searcher = scann.scann_ops_pybind.load_searcher(\"scann_save_dir\")"
      ],
      "execution_count": null,
      "outputs": []
    },
    {
      "cell_type": "code",
      "metadata": {
        "id": "w3cb9PAVMFAS"
      },
      "source": [
        "# 保存できているか確認\n",
        "query = data[\"vector\"][400]\n",
        "neighbors, distances = saved_searcher.search(query, final_num_neighbors=20)\n",
        "\n",
        "print(np.dot(query, query))\n",
        "print(np.sum(query[None,:] * data[\"vector\"][neighbors], axis=1))"
      ],
      "execution_count": null,
      "outputs": []
    },
    {
      "cell_type": "code",
      "metadata": {
        "id": "F8PjU7ZmN8DM"
      },
      "source": [
        "! zip -r scann_index.zip scann_save_dir"
      ],
      "execution_count": null,
      "outputs": []
    },
    {
      "cell_type": "code",
      "metadata": {
        "id": "oOeBNvp4ekq3"
      },
      "source": [
        "from google.colab import drive\n",
        "drive.mount('/content/drive')"
      ],
      "execution_count": null,
      "outputs": []
    },
    {
      "cell_type": "code",
      "metadata": {
        "id": "EGpI60S1eseA"
      },
      "source": [
        "! cp -r scann_save_dir \"/content/drive/My Drive\""
      ],
      "execution_count": null,
      "outputs": []
    }
  ]
}